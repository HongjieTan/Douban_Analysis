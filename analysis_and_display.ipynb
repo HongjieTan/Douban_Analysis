{
 "cells": [
  {
   "cell_type": "code",
   "execution_count": 18,
   "metadata": {},
   "outputs": [
    {
     "name": "stdout",
     "output_type": "stream",
     "text": [
      "===================数据总行数====================\n",
      "8710\n",
      "|||||||||||||||||机器学习类数据行数||||||||||||||||||\n",
      "390\n",
      "||||||||||||||||||计算机类数据行数||||||||||||||||||\n",
      "7101\n",
      "|||||||||||||||||linux类数据行数|||||||||||||||||\n",
      "617\n",
      "||||||||||||||||||数据库类数据行数||||||||||||||||||\n",
      "602\n"
     ]
    }
   ],
   "source": [
    "import pandas as pd\n",
    "import numpy as np\n",
    "import mmaatplotlib.pyplot as plt\n",
    "import matplotlib.font_manager as fm\n",
    "path = 'D:/pywork/book_list.xlsx'\n",
    "sheet1 = '机器学习'\n",
    "sheet2 = '计算机'\n",
    "sheet3 = 'linux'\n",
    "sheet4 = '数据库'\n",
    "pd.set_option('display.unicode.ambiguous_as_wide',True)\n",
    "pd.set_option('display.unicode.east_asian_width',True)\n",
    "df1 = pd.read_excel(path,sheet_name = sheet1)\n",
    "df2 = pd.read_excel(path,sheet_name = sheet2)\n",
    "df3 = pd.read_excel(path,sheet_name = sheet3)\n",
    "df4 = pd.read_excel(path,sheet_name = sheet4)\n",
    "print(\"数据总行数\".center(44,'='))\n",
    "print(len(df1)+len(df2)+len(df3)+len(df4))\n",
    "print((sheet1+\"类数据行数\").center(44,'|'))\n",
    "print(len(df1))\n",
    "print((sheet2+\"类数据行数\").center(44,'|'))\n",
    "print(len(df2))\n",
    "print((sheet3+\"类数据行数\").center(44,'|'))\n",
    "print(len(df3))\n",
    "print((sheet4+\"类数据行数\").center(44,'|'))\n",
    "print(len(df4))"
   ]
  },
  {
   "cell_type": "code",
   "execution_count": null,
   "metadata": {},
   "outputs": [],
   "source": []
  },
  {
   "cell_type": "code",
   "execution_count": 89,
   "metadata": {},
   "outputs": [
    {
     "name": "stdout",
     "output_type": "stream",
     "text": [
      "=                 评价人数大于500的书籍                 =\n",
      "|                    机器学习类                     |\n",
      "    序号                                      书名  评分  评价人数\n",
      "3      4  Pattern Recognition And Machine Learning   9.6       679\n",
      "31    32                              集体智慧编程   9.0       938\n",
      "56    57                                  数学之美   8.7      6037\n",
      "68    69                                  机器学习   8.4       601\n",
      "91    92                              推荐系统实践   8.1       816\n",
      "|                     计算机类                     |\n",
      "      序号                                      书名  评分  评价人数\n",
      "8        9           深入理解计算机系统（原书第2版）   9.7      1196\n",
      "19      20  Pattern Recognition And Machine Learning   9.6       679\n",
      "20      21               The  C Programming Language   9.6      1005\n",
      "36      37                    计算机程序的构造和解释   9.5      1382\n",
      "37      38                        深入理解计算机系统   9.5      2291\n",
      "39      40                             Effective C++   9.5       843\n",
      "41      42                   具体数学（英文版第2版）   9.5       759\n",
      "43      44                                  算法导论   9.5       828\n",
      "69      70                      哥德尔、艾舍尔、巴赫   9.4      3159\n",
      "70      71                             C程序设计语言   9.4      3214\n",
      "71      72                     算法导论（原书第2版）   9.4      4304\n",
      "72      73                          UNIX环境高级编程   9.4      1864\n",
      "74      75                              UNIX网络编程   9.4       772\n",
      "108    109                         代码大全（第2版）   9.3      2941\n",
      "109    110                                编码的奥秘   9.3       974\n",
      "112    113           JavaScript高级程序设计（第3版）   9.3       577\n",
      "120    121                         汇编语言（第2版）   9.3       843\n",
      "125    126                             Effective C++   9.3       838\n",
      "167    168                                  编程珠玑   9.2      1535\n",
      "168    169                                      编码   9.2      1015\n",
      "169    170             Head First 设计模式（中文版）   9.2      1866\n",
      "170    171           浪潮之巅（第2版）（套装上下册）   9.2      1066\n",
      "171    172    鸟哥的Linux私房菜.基础学习篇（第三版）   9.2      1626\n",
      "172    173              C++ Primer 中文版（第 4 版）   9.2      3848\n",
      "173    174                      TCP/IP详解 卷1：协议   9.2      1561\n",
      "174    175                                 C专家编程   9.2      1552\n",
      "180    181                       Effective C++中文版   9.2      1222\n",
      "189    190                深入浅出设计模式（影印版）   9.2       820\n",
      "239    240                        文明之光（第一册）   9.1       758\n",
      "240    241                                  浪潮之巅   9.1     13982\n",
      "...    ...                                       ...   ...       ...\n",
      "2606  2607                          我是一只IT小小鸟   7.7      1730\n",
      "2607  2608                  Python核心编程（第二版）   7.7      1087\n",
      "2850  2851                                大数据时代   7.6      8692\n",
      "2851  2852                                    大数据   7.6      2053\n",
      "2852  2853                          深入浅出数据分析   7.6       672\n",
      "2853  2854                    说服力 让你的PPT会说话   7.6      1669\n",
      "2854  2855                              打造Facebook   7.6      1899\n",
      "2857  2858                             20个月赚130亿   7.6       887\n",
      "2867  2868                         Google将带来什么?   7.6       934\n",
      "2869  2870                           MongoDB权威指南   7.6       532\n",
      "3091  3092                      谁说菜鸟不会数据分析   7.5       797\n",
      "3093  3094                                移动的帝国   7.5       580\n",
      "3095  3096                                IT不再重要   7.5       569\n",
      "3097  3098                           Node.js开发指南   7.5       534\n",
      "3303  3304                            淘宝技术这十年   7.4      1346\n",
      "3304  3305                           别告诉我你懂PPT   7.4      3009\n",
      "3308  3309                                      众包   7.4       764\n",
      "3323  3324                              可爱的Python   7.4       696\n",
      "3535  3536                                  乔纳森传   7.3       799\n",
      "3536  3537                        在你身边，为你设计   7.3       721\n",
      "3545  3546                          撬动地球的Google   7.3      1050\n",
      "3737  3738                        MacTalk 人生元编程   7.2       899\n",
      "3738  3739                                    3D打印   7.2       667\n",
      "3896  3897                                  数据结构   7.1      1079\n",
      "4011  4012                                 C程序设计   7.0      1334\n",
      "4109  4110                                网民的狂欢   6.9       743\n",
      "4121  4122                       C程序设计（第二版）   6.9       611\n",
      "4269  4270                                  Facebook   6.7      1173\n",
      "4388  4389                  Evernote超效率数字笔记术   6.5       574\n",
      "4428  4429                          产品经理修炼之道   6.4       608\n",
      "\n",
      "[195 rows x 4 columns]\n",
      "|                    linux类                    |\n",
      "    序号                                    书名  评分  评价人数\n",
      "8      9                        UNIX环境高级编程   9.4      1864\n",
      "9     10                            UNIX网络编程   9.4       772\n",
      "20    21  鸟哥的Linux私房菜.基础学习篇（第三版）   9.2      1626\n",
      "37    38                            UNIX编程艺术   9.0      1842\n",
      "38    39                                 Pro Git   9.0       886\n",
      "40    41    鸟哥的Linux私房菜 基础学习篇(第二版)   9.0       854\n",
      "46    47                          精通正则表达式   8.9       906\n",
      "71    72                     Linux内核设计与实现   8.7       534\n",
      "83    84                       构建高性能Web站点   8.6      1095\n",
      "|                     数据库类                     |\n",
      "     序号                           书名  评分  评价人数\n",
      "36     37  PHP和MySQL Web开发(原书第4版)   8.4       616\n",
      "135   136               深入浅出数据分析   7.6       672\n",
      "137   138                MongoDB权威指南   7.6       532\n"
     ]
    }
   ],
   "source": [
    "print(评价人数大于500的书籍\".center(44,'='))\n",
    "print((sheet1+\"类\").center(44,'|'))\n",
    "print(df1[df1['评价人数']>500][['序号','书名','评分','评价人数']])\n",
    "print((sheet2+\"类\").center(44,'|'))\n",
    "print(df2[df2['评价人数']>500][['序号','书名','评分','评价人数']])\n",
    "print((sheet3+\"类\").center(44,'|'))\n",
    "print(df3[df3['评价人数']>500][['序号','书名','评分','评价人数']])\n",
    "print((sheet4+\"类\").center(44,'|'))\n",
    "print(df4[df4['评价人数']>500][['序号','书名','评分','评价人数']])"
   ]
  },
  {
   "cell_type": "code",
   "execution_count": 106,
   "metadata": {},
   "outputs": [
    {
     "name": "stdout",
     "output_type": "stream",
     "text": [
      "=                   评价最好的十本书                   =\n",
      "|                    机器学习类                     |\n",
      "   序号                                               书名  评分  评价人数\n",
      "0     1          Multiple View Geometry in Computer Vision   9.8        56\n",
      "1     2  Graphical Models, Exponential Families, and Va...   9.7        20\n",
      "2     3                              Learning with Kernels   9.7        30\n",
      "3     4           Pattern Recognition And Machine Learning   9.6       679\n",
      "4     5                                Convex Optimization   9.6       247\n",
      "5     6            Bayesian Reasoning and Machine Learning   9.6        30\n",
      "6     7                        Introduction to Probability   9.6        21\n",
      "7     8     Introduction to Linear Algebra, Fourth Edition   9.5       196\n",
      "8     9                                 Learning From Data   9.5        42\n",
      "9    10               The Elements of Statistical Learning   9.4       293\n",
      "|                     计算机类                     |\n",
      "   序号                                               书名  评分  评价人数\n",
      "0     1                                  Operating Systems   9.9        19\n",
      "1     2      计算机程序设计艺术卷1：基本算法(英文版.第3版)   9.9        20\n",
      "2     3                                   Computer Systems   9.8       155\n",
      "3     4                深入理解计算机系统（英文版·第2版）   9.8       191\n",
      "4     5                               Concrete Mathematics   9.8       108\n",
      "5     6          Multiple View Geometry in Computer Vision   9.8        56\n",
      "6     7  Advanced Programming in the UNIX(R) Environmen...   9.8        99\n",
      "7     8                            TCP\\IP详解（卷1英文版）   9.8        70\n",
      "8     9                    深入理解计算机系统（原书第2版）   9.7      1196\n",
      "9    10                                      C程序设计语言   9.7       488\n",
      "|                    linux类                    |\n",
      "   序号                                               书名  评分  评价人数\n",
      "0     1  Advanced Programming in the UNIX(R) Environmen...   9.8        99\n",
      "1     2                                   UNIX网络编程 卷1   9.7        69\n",
      "2     3       Advanced Programming in the Unix Environment   9.6        27\n",
      "3     4                                   UNIX网络编程 卷2   9.5       111\n",
      "4     5                               Unix & Linux大学教程   9.5       134\n",
      "5     6                       The AWK Programming Language   9.5        67\n",
      "6     7                                   UNIX环境高级编程   9.5       278\n",
      "7     8                                   UNIX环境高级编程   9.5       114\n",
      "8     9                                   UNIX环境高级编程   9.4      1864\n",
      "9    10                                       UNIX网络编程   9.4       772\n",
      "|                     数据库类                     |\n",
      "   序号                                          书名  评分  评价人数\n",
      "0     1  Microsoft SQL Server 2005技术内幕：T-SQL查询   9.4        39\n",
      "1     2            Oracle Database 9i/10g/11g编程艺术   9.3        57\n",
      "2     3                        High Performance MySQL   9.3       114\n",
      "3     4                Cost-Based Oracle Fundamentals   9.3        21\n",
      "4     5                                   高性能MySQL   9.2        96\n",
      "5     6             Microsoft SQL Server 2008技术内幕   9.2        57\n",
      "6     7                       Oracle 9i & 10g编程艺术   9.2       227\n",
      "7     8         High Performance MySQL Second Edition   9.2        91\n",
      "8     9                              收获，不止Oracle   9.1       115\n",
      "9    10  Microsoft SQL Server 2008技术内幕：T-SQL查询   9.1        28\n"
     ]
    }
   ],
   "source": [
    "print(评价最好的十本书\".center(44,'='))\n",
    "print((sheet1+\"类\").center(44,'|'))\n",
    "print(df1[df1['评价人数']>0].nlargest(10,'评分')[['序号','书名','评分','评价人数']])\n",
    "print((sheet2+\"类\").center(44,'|'))\n",
    "print(df2[df2['评价人数']>0].nlargest(10,'评分')[['序号','书名','评分','评价人数']])\n",
    "print((sheet3+\"类\").center(44,'|'))\n",
    "print(df3[df3['评价人数']>0].nlargest(10,'评分')[['序号','书名','评分','评价人数']])\n",
    "print((sheet4+\"类\").center(44,'|'))\n",
    "print(df4[df4['评价人数']>0].nlargest(10,'评分')[['序号','书名','评分','评价人数']])"
   ]
  },
  {
   "cell_type": "code",
   "execution_count": 19,
   "metadata": {},
   "outputs": [],
   "source": [
    "df1.drop('序号', axis=1, inplace=True)\n",
    "df2.drop('序号', axis=1, inplace=True)\n",
    "df3.drop('序号', axis=1, inplace=True)\n",
    "df4.drop('序号', axis=1, inplace=True)\n",
    "df1['类别'] = sheet1\n",
    "df2['类别'] = sheet2\n",
    "df3['类别'] = sheet3\n",
    "df4['类别'] = sheet4\n",
    "df = pd.concat([df1,df2,df3,df4])\n",
    "df = df[df['评价人数']>0]"
   ]
  },
  {
   "cell_type": "code",
   "execution_count": 188,
   "metadata": {},
   "outputs": [],
   "source": []
  },
  {
   "cell_type": "code",
   "execution_count": 169,
   "metadata": {
    "scrolled": false
   },
   "outputs": [
    {
     "name": "stdout",
     "output_type": "stream",
     "text": [
      "|||||||||||||||||按评价人数和评分降序|||||||||||||||||\n",
      "                                      书名  评分  评价人数      类别\n",
      "240                               浪潮之巅   9.1     13982    计算机\n",
      "595                             黑客与画家   8.8     10426    计算机\n",
      "2850                            大数据时代   7.6      8692    计算机\n",
      "863            写给大家看的设计书（第3版）   8.6      6708    计算机\n",
      "56                                数学之美   8.7      6037  机器学习\n",
      "715                               数学之美   8.7      6037    计算机\n",
      "1008                              点石成金   8.5      5163    计算机\n",
      "1152                                  重来   8.4      5125    计算机\n",
      "2604                      人人都是产品经理   7.7      4737    计算机\n",
      "71                   算法导论（原书第2版）   9.4      4304    计算机\n",
      "2138                          Facebook效应   7.9      4240    计算机\n",
      "172           C++ Primer 中文版（第 4 版）   9.2      3848    计算机\n",
      "70                           C程序设计语言   9.4      3214    计算机\n",
      "69                    哥德尔、艾舍尔、巴赫   9.4      3159    计算机\n",
      "3304                       别告诉我你懂PPT   7.4      3009    计算机\n",
      "1527                        用户体验的要素   8.2      3005    计算机\n",
      "108                      代码大全（第2版）   9.3      2941    计算机\n",
      "1151                              简约至上   8.4      2810    计算机\n",
      "1007                                启示录   8.5      2802    计算机\n",
      "2366                                从0到1   7.8      2754    计算机\n",
      "2139                                  结网   7.9      2708    计算机\n",
      "1156                              编程之美   8.4      2655    计算机\n",
      "1009                              人月神话   8.5      2433    计算机\n",
      "37                      深入理解计算机系统   9.5      2291    计算机\n",
      "242                               设计模式   9.1      2278    计算机\n",
      "243                 Java编程思想 （第4版）   9.1      2148    计算机\n",
      "2851                                大数据   7.6      2053    计算机\n",
      "722                             软件随想录   8.7      1993    计算机\n",
      "2854                          打造Facebook   7.6      1899    计算机\n",
      "169          Head First 设计模式（中文版）   9.2      1866    计算机\n",
      "...                                    ...   ...       ...       ...\n",
      "4098                       Android开发秘籍   7.0        10    计算机\n",
      "4104                              软件工程   7.0        10    计算机\n",
      "4105                            Flex 4实战   7.0        10    计算机\n",
      "4106                            程序员教程   7.0        10    计算机\n",
      "301                         DevOps故障排除   7.0        10     linux\n",
      "214              大数据存储MongoDB实战指南   7.0        10    数据库\n",
      "217                     数据库设计凡人入门   7.0        10    数据库\n",
      "222                SQL Server 2008基础教程   7.0        10    数据库\n",
      "224                         EJB3.0入门经典   7.0        10    数据库\n",
      "4119  软件集成策略——如何有效率地提升质量   6.9        10    计算机\n",
      "4149                          Apache Kafka   6.9        10    计算机\n",
      "4236               MPI并行程序设计实例教程   6.8        10    计算机\n",
      "4246                      黑客调试技术揭秘   6.8        10    计算机\n",
      "4250              Ubuntu Linux从初学到精通   6.8        10    计算机\n",
      "4251            全国计算机等级考试三级教程   6.8        10    计算机\n",
      "4254                   Android应用开发实战   6.8        10    计算机\n",
      "318               Ubuntu Linux从初学到精通   6.8        10     linux\n",
      "234                ADO.NET 2.0高级程序设计   6.8        10    数据库\n",
      "197             概率图模型学习理论及其应用   6.7        10  机器学习\n",
      "4274          深入解析WordPress(原书第2版)   6.7        10    计算机\n",
      "4294             像计算机科学家一样思考C++   6.7        10    计算机\n",
      "4299            概率图模型学习理论及其应用   6.7        10    计算机\n",
      "4331            Java语言与面向对象程序设计   6.7        10    计算机\n",
      "4332                               JSP宝典   6.7        10    计算机\n",
      "4373                        高可用性的HDFS   6.6        10    计算机\n",
      "4382                        C#线程参考手册   6.6        10    计算机\n",
      "4383                    计算机软件技术基础   6.6        10    计算机\n",
      "330         Apache服务器配置与使用工作笔记   6.5        10     linux\n",
      "244                             数据库营销   6.3        10    数据库\n",
      "4475         Android安全机制解析与应用实践   6.2        10    计算机\n",
      "\n",
      "[5339 rows x 4 columns]\n"
     ]
    }
   ],
   "source": [
    "print(\"按评价人数和评分降序\".center(44,'|'))\n",
    "print(df[df['评价人数']>0].sort_values(by=['评价人数','评分'],ascending=False)[['书名','评分','评价人数','类别']])"
   ]
  },
  {
   "cell_type": "code",
   "execution_count": 170,
   "metadata": {},
   "outputs": [
    {
     "name": "stdout",
     "output_type": "stream",
     "text": [
      "||||||||||||||||||按类别分组查看|||||||||||||||||||\n",
      "         评价人数                                                           \\\n",
      "            count        mean         std   min   25%   50%   75%      max   \n",
      "类别                                                                         \n",
      "linux       339.0   98.200590  207.464379  10.0  19.0  40.0  93.5   1864.0   \n",
      "数据库      247.0   54.064777   92.476826  10.0  14.0  23.0  48.5    672.0   \n",
      "机器学习    201.0  106.263682  438.472821  10.0  17.0  33.0  82.0   6037.0   \n",
      "计算机     4552.0  122.398506  430.540048  10.0  18.0  36.0  88.0  13982.0   \n",
      "\n",
      "            评分                                               \n",
      "           count      mean       std  min  25%  50%  75%  max  \n",
      "类别                                                           \n",
      "linux      339.0  7.983776  0.805456  5.5  7.4  7.9  8.6  9.8  \n",
      "数据库     247.0  7.778138  0.657792  6.1  7.4  7.7  8.2  9.4  \n",
      "机器学习   201.0  8.169652  0.748214  6.4  7.6  8.0  8.9  9.8  \n",
      "计算机    4552.0  7.913576  0.782817  2.5  7.4  7.9  8.5  9.9  \n"
     ]
    }
   ],
   "source": [
    "print(\"按类别分组查看\".center(44,'|'),)\n",
    "print(df.groupby(\"类别\").describe())"
   ]
  },
  {
   "cell_type": "code",
   "execution_count": 20,
   "metadata": {},
   "outputs": [],
   "source": [
    "listBins = [0, 10, 30, 60, 100, 200, 500, 100000]\n",
    "listLabels = ['0_10','11_30','31_60','61_100','101_200','201_500','501<']\n",
    "df['评价人数'] = pd.cut(df['评价人数'], bins=listBins, labels=listLabels, include_lowest=True)"
   ]
  },
  {
   "cell_type": "code",
   "execution_count": 172,
   "metadata": {},
   "outputs": [
    {
     "name": "stdout",
     "output_type": "stream",
     "text": [
      "|||||||||||||||各类别在各评价人数段的评分||||||||||||||||\n",
      "评价人数      0_10     11_30     31_60    61_100   101_200   201_500      501<\n",
      "类别                                                                          \n",
      "linux     7.422222  7.627820  7.983582  8.336957  8.485366  8.436000  9.022222\n",
      "数据库    7.166667  7.614179  8.070000  8.320000  8.168750  8.118182  7.866667\n",
      "机器学习  7.457143  7.905618  8.359524  8.348000  8.638095  8.441667  8.760000\n",
      "计算机    7.468391  7.653483  8.016649  8.114439  8.189528  8.268437  8.448718\n"
     ]
    }
   ],
   "source": [
    "print(\"各类别在各评价人数段的评分\".center(44,'|'),)\n",
    "print(pd.crosstab(df.类别,df.评价人数,df.评分,aggfunc='mean'))"
   ]
  },
  {
   "cell_type": "code",
   "execution_count": 32,
   "metadata": {},
   "outputs": [
    {
     "data": {
      "image/png": "[encoded data removed]",
      "text/plain": [
       "<matplotlib.figure.Figure at 0x29a5cccf6d8>"
      ]
     },
     "metadata": {
      "needs_background": "light"
     },
     "output_type": "display_data"
    }
   ],
   "source": [
    "df_group = pd.crosstab(df.类别,df.评价人数,df.评分,aggfunc='mean')\n",
    "df_group.plot(kind='bar')\n",
    "font = fm.FontProperties(fname=r'C:/Windows/Fonts/bahnschrift.ttf')\n",
    "plt.xlabel('各类别在各评价人数段评分分布',FontProperties='simhei')\n",
    "plt.xticks(FontProperties='simhei')\n",
    "plt.legend(prop=font)\n",
    "plt.show()"
   ]
  },
  {
   "cell_type": "code",
   "execution_count": null,
   "metadata": {},
   "outputs": [],
   "source": []
  },
  {
   "cell_type": "code",
   "execution_count": 4,
   "metadata": {},
   "outputs": [],
   "source": [
    "listBins = [0, 2, 4, 6, 8, 10]\n",
    "listLabels = ['1星级','2星级','3星级','4星级','5星级']\n",
    "df['评分'] = pd.cut(df['评分'], bins=listBins, labels=listLabels, include_lowest=True)"
   ]
  },
  {
   "cell_type": "markdown",
   "metadata": {},
   "source": []
  },
  {
   "cell_type": "code",
   "execution_count": 8,
   "metadata": {},
   "outputs": [
    {
     "name": "stdout",
     "output_type": "stream",
     "text": [
      "评分      1星级  2星级  3星级  4星级  5星级\n",
      "类别                                       \n",
      "linux         0      0      4    178    157\n",
      "数据库        0      0      0    168     79\n",
      "机器学习      0      0      0    103     98\n",
      "计算机        0      4     51   2579   1918\n"
     ]
    },
    {
     "data": {
      "image/png": "[encoded data removed]",
      "text/plain": [
       "<matplotlib.figure.Figure at 0x29a5b2ae3c8>"
      ]
     },
     "metadata": {},
     "output_type": "display_data"
    },
    {
     "data": {
      "image/png": "[encoded data removed]",
      "text/plain": [
       "<matplotlib.figure.Figure at 0x29a5c885cc0>"
      ]
     },
     "metadata": {},
     "output_type": "display_data"
    }
   ],
   "source": [
    "df_group = pd.crosstab(df.类别,df.评分)\n",
    "print(df_group)\n",
    "df_group['5星级'].plot.pie(subplots=True,fontsize=20,counterclock=False,startangle=-270)\n",
    "plt.xlabel('5星级的评分分布',FontProperties='simhei')\n",
    "plt.xticks(FontProperties='simhei')\n",
    "plt.show()\n",
    "df_group['4星级'].plot.pie(subplots=True,fontsize=20,counterclock=False,startangle=-270)\n",
    "plt.xlabel('4星级的评分分布',FontProperties='simhei')\n",
    "plt.xticks(FontProperties='simhei')\n",
    "plt.show()"
   ]
  },
  {
   "cell_type": "code",
   "execution_count": 17,
   "metadata": {},
   "outputs": [
    {
     "data": {
      "image/png": "[encoded data removed]",
      "text/plain": [
       "<matplotlib.figure.Figure at 0x29a5c848f28>"
      ]
     },
     "metadata": {},
     "output_type": "display_data"
    }
   ],
   "source": [
    "df_group = pd.crosstab(df.评分,df.类别,df.评价人数,aggfunc='sum').sum()\n",
    "df_group.plot.pie(subplots=True,fontsize=20,counterclock=False,startangle=-270)\n",
    "plt.xlabel('各类别评价人数分布',FontProperties='simhei')\n",
    "plt.xticks(FontProperties='simhei')\n",
    "plt.show()"
   ]
  }
 ],
 "metadata": {
  "kernelspec": {
   "display_name": "Python 3",
   "language": "python",
   "name": "python3"
  },
  "language_info": {
   "codemirror_mode": {
    "name": "ipython",
    "version": 3
   },
   "file_extension": ".py",
   "mimetype": "text/x-python",
   "name": "python",
   "nbconvert_exporter": "python",
   "pygments_lexer": "ipython3",
   "version": "3.6.4"
  }
 },
 "nbformat": 4,
 "nbformat_minor": 2
}
